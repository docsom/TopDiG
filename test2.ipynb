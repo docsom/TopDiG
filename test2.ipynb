{
 "cells": [
  {
   "cell_type": "code",
   "execution_count": 44,
   "metadata": {},
   "outputs": [],
   "source": [
    "from shapely.geometry import Polygon\n",
    "import numpy as np\n",
    "import geopandas as gpd"
   ]
  },
  {
   "cell_type": "code",
   "execution_count": 62,
   "metadata": {},
   "outputs": [],
   "source": [
    "def is_clockwise_three_points(points):\n",
    "    \"\"\"Determine if a polygon (defined by its points) is clockwise or counterclockwise\n",
    "    by using the first three points.\"\"\"\n",
    "    if len(points) < 3:\n",
    "        raise ValueError(\"Polygon must have at least 3 points\")\n",
    "\n",
    "    p1, p2, p3 = points[:3]\n",
    "    print((p2[0] - p1[0]) * (p3[1] - p1[1]))\n",
    "    print((p2[1] - p1[1]) * (p3[0] - p1[0]))\n",
    "    return (p2[0] - p1[0]) * (p3[1] - p1[1]) - (p2[1] - p1[1]) * (p3[0] - p1[0]) < 0"
   ]
  },
  {
   "cell_type": "code",
   "execution_count": 63,
   "metadata": {},
   "outputs": [],
   "source": [
    "a = Polygon([[0,0], [1.5,0], [1,1], [0,1], [0,0]])\n",
    "b = Polygon([[2,2], [2,3], [3,3], [3,2], [2,2]])\n",
    "poly = [a,b]"
   ]
  },
  {
   "cell_type": "code",
   "execution_count": 64,
   "metadata": {},
   "outputs": [],
   "source": [
    "gdf = gpd.GeoDataFrame(geometry=poly)"
   ]
  },
  {
   "cell_type": "code",
   "execution_count": 65,
   "metadata": {},
   "outputs": [
    {
     "name": "stdout",
     "output_type": "stream",
     "text": [
      "POLYGON ((0 0, 1.5 0, 1 1, 0 1, 0 0))\n",
      "[(0.0, 0.0), (1.5, 0.0), (1.0, 1.0), (0.0, 1.0), (0.0, 0.0)]\n",
      "1.5\n",
      "0.0\n",
      "1.5\n",
      "0.0\n",
      "[(2.0, 2.0), (2.0, 3.0), (3.0, 3.0), (3.0, 2.0), (2.0, 2.0)]\n",
      "0.0\n",
      "1.0\n",
      "T\n",
      "0.0\n",
      "1.0\n"
     ]
    }
   ],
   "source": [
    "print(gdf['geometry'][0])\n",
    "counterclockwise_poly = []\n",
    "is_clockwise = []\n",
    "for polygon in gdf['geometry']:\n",
    "    points = list(polygon.exterior.coords)\n",
    "    print(points)\n",
    "    if is_clockwise_three_points(points):\n",
    "        print('T')\n",
    "        polygon = Polygon(points[::-1])\n",
    "    counterclockwise_poly.append(polygon)\n",
    "    is_clockwise.append(is_clockwise_three_points(points))\n",
    "gdf = gpd.GeoDataFrame({'is_clock': is_clockwise}, geometry=counterclockwise_poly)"
   ]
  },
  {
   "cell_type": "code",
   "execution_count": 66,
   "metadata": {},
   "outputs": [
    {
     "data": {
      "text/plain": [
       "<Axes: >"
      ]
     },
     "execution_count": 66,
     "metadata": {},
     "output_type": "execute_result"
    },
    {
     "data": {
      "image/png": "[encoded data removed]",
      "text/plain": [
       "<Figure size 640x480 with 1 Axes>"
      ]
     },
     "metadata": {},
     "output_type": "display_data"
    }
   ],
   "source": [
    "gdf.plot(column='is_clock')"
   ]
  },
  {
   "cell_type": "code",
   "execution_count": 54,
   "metadata": {},
   "outputs": [
    {
     "name": "stdout",
     "output_type": "stream",
     "text": [
      "[(0.0, 0.0), (1.5, 0.0), (1.0, 1.0), (0.0, 1.0), (0.0, 0.0)]\n",
      "[(2.0, 2.0), (3.0, 2.0), (3.0, 3.0), (2.0, 3.0), (2.0, 2.0)]\n"
     ]
    }
   ],
   "source": [
    "for polygon in gdf['geometry']:\n",
    "    points = list(polygon.exterior.coords)\n",
    "    print(points)\n",
    "\n",
    "    if is_clockwise_three_points(points):\n",
    "        print('T')"
   ]
  },
  {
   "cell_type": "code",
   "execution_count": 50,
   "metadata": {},
   "outputs": [
    {
     "data": {
      "text/plain": [
       "<Axes: >"
      ]
     },
     "execution_count": 50,
     "metadata": {},
     "output_type": "execute_result"
    },
    {
     "data": {
      "image/png": "[encoded data removed]",
      "text/plain": [
       "<Figure size 640x480 with 1 Axes>"
      ]
     },
     "metadata": {},
     "output_type": "display_data"
    }
   ],
   "source": [
    "gdf.plot()"
   ]
  },
  {
   "cell_type": "code",
   "execution_count": null,
   "metadata": {},
   "outputs": [],
   "source": []
  }
 ],
 "metadata": {
  "kernelspec": {
   "display_name": "Python 3",
   "language": "python",
   "name": "python3"
  },
  "language_info": {
   "codemirror_mode": {
    "name": "ipython",
    "version": 3
   },
   "file_extension": ".py",
   "mimetype": "text/x-python",
   "name": "python",
   "nbconvert_exporter": "python",
   "pygments_lexer": "ipython3",
   "version": "3.10.12"
  }
 },
 "nbformat": 4,
 "nbformat_minor": 2
}
