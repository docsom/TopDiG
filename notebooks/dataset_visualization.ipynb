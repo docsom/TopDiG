{
 "cells": [
  {
   "cell_type": "code",
   "execution_count": null,
   "metadata": {},
   "outputs": [],
   "source": [
    "import sys\n",
    "sys.path.append('..')\n",
    "\n",
    "import os\n",
    "from glob import glob\n",
    "import numpy as np\n",
    "import matplotlib.pyplot as plt\n",
    "import torch\n",
    "import yaml\n",
    "\n",
    "import imageio\n",
    "from skimage.transform import resize\n",
    "\n",
    "from dataloader_cocostyle import CrowdAI, image_graph_collate_road_network_coco, min_max_normalize\n",
    "from dataset_inria import build_inria_data\n",
    "from pretrain import dict2obj"
   ]
  },
  {
   "cell_type": "code",
   "execution_count": null,
   "metadata": {},
   "outputs": [],
   "source": [
    "dataset = CrowdAI(images_directory='/nas/k8s/dev/research/doyoungi/dataset/Inria_building/cocostyle_inria_test/images',\n",
    "                    annotations_path='/nas/k8s/dev/research/doyoungi/dataset/Inria_building/cocostyle_inria_test/annotation.json',\n",
    "                    gap_distance=10,\n",
    "                    sigma=0.8,\n",
    "                    nms=False)\n",
    "dataloader = torch.utils.data.DataLoader(dataset, batch_size=4, collate_fn=image_graph_collate_road_network_coco, shuffle=False)\n",
    "\n",
    "print(next(iter(dataloader))[0].shape) # image\n",
    "\n",
    "data = next(iter(dataloader))\n",
    "\n",
    "image = data[0][0].detach().cpu().numpy().transpose(1,2,0)\n",
    "heatmap = data[1][0].detach().cpu().numpy()[0]\n",
    "nodes = data[2][0].detach().cpu().numpy() * image.shape[0]\n",
    "edges = data[3][0].detach().cpu().numpy()\n",
    "\n",
    "nodes = nodes.astype('int64')\n",
    "\n",
    "print(heatmap.max(), heatmap.min())\n",
    "\n",
    "# Visualize\n",
    "fig, ax = plt.subplots(1, 2, figsize=(24,12))\n",
    "ax[0].imshow(min_max_normalize(image, 0))\n",
    "ax[0].scatter(nodes[:,1], nodes[:,0], color='r')\n",
    "\n",
    "for e in edges:\n",
    "    connect = np.stack([nodes[e[0]], nodes[e[1]]], axis=0)\n",
    "    ax[0].plot(connect[:,1], connect[:,0])\n",
    "\n",
    "ax[1].imshow(heatmap)\n",
    "plt.show()"
   ]
  },
  {
   "cell_type": "code",
   "execution_count": null,
   "metadata": {},
   "outputs": [],
   "source": [
    "config_file = '../configs/inria_pretrain.yaml'\n",
    "with open(config_file) as f:\n",
    "    print('\\n*** Config file')\n",
    "    print(config_file)\n",
    "    config = yaml.load(f, Loader=yaml.FullLoader)\n",
    "    print(config['log']['message'])\n",
    "config = dict2obj(config)\n",
    "dataset = build_inria_data(config)\n",
    "\n",
    "dataloader = torch.utils.data.DataLoader(dataset, batch_size=6, shuffle=False)\n",
    "\n",
    "print(next(iter(dataloader))[0].shape) # image\n",
    "\n",
    "data = next(iter(dataloader))\n",
    "\n",
    "# image_data, ann_data, htm_data\n",
    "image = data[0][3].detach().cpu().numpy().transpose(1,2,0)\n",
    "ann = data[1][3].detach().cpu().numpy()[0]\n",
    "heatmap = data[2][3].detach().cpu().numpy()[0]\n",
    "print(heatmap.max(), heatmap.min())\n",
    "\n",
    "# Visualize\n",
    "fig, ax = plt.subplots(1, 2, figsize=(24,12))\n",
    "ax[0].imshow(min_max_normalize(image, 0))\n",
    "\n",
    "ax[1].imshow(heatmap > 0.0)\n",
    "plt.show()"
   ]
  },
  {
   "cell_type": "code",
   "execution_count": null,
   "metadata": {},
   "outputs": [],
   "source": [
    "sample = dataset[7]\n",
    "\n",
    "image = sample['image'].detach().cpu().numpy().transpose(1,2,0)\n",
    "heatmap = sample['heatmap'].detach().cpu().numpy()[0]\n",
    "nodes = sample['nodes'].detach().cpu().numpy() * image.shape[0]\n",
    "edges = sample['edges'].detach().cpu().numpy()\n",
    "\n",
    "img_idx = sample['image_idx'].detach().cpu().numpy()\n",
    "img_name = dataset.coco.loadImgs(img_idx)[0]['file_name']\n",
    "print(img_name)"
   ]
  },
  {
   "cell_type": "code",
   "execution_count": null,
   "metadata": {},
   "outputs": [],
   "source": [
    "# Visualize\n",
    "fig, ax = plt.subplots(1, 2, figsize=(24,12))\n",
    "ax[0].imshow(min_max_normalize(image, 0))\n",
    "ax[0].scatter(nodes[:,1], nodes[:,0], color='r')\n",
    "\n",
    "for e in edges:\n",
    "    connect = np.stack([nodes[e[0]], nodes[e[1]]], axis=0)\n",
    "    ax[0].plot(connect[:,1], connect[:,0])\n",
    "\n",
    "ax[1].imshow(heatmap)\n",
    "plt.show()"
   ]
  },
  {
   "cell_type": "code",
   "execution_count": null,
   "metadata": {},
   "outputs": [],
   "source": [
    "# ustin3_2700_4500.png\n",
    "inria_heatmap = \"/nas/k8s/dev/research/doyoungi/dataset/Inria_building/test/heatmap/chicago10_2700_0.png\"\n",
    "print(os.path.isfile(inria_heatmap))\n",
    "htm_data = imageio.imread(inria_heatmap)\n",
    "htm_data = resize(htm_data, (320, 320), anti_aliasing=True, preserve_range=True)\n",
    "# htm_data = torch.tensor(htm_data, dtype=torch.int).unsqueeze(0)\n",
    "htm_data = htm_data/255.0"
   ]
  },
  {
   "cell_type": "code",
   "execution_count": null,
   "metadata": {},
   "outputs": [],
   "source": [
    "fig, ax = plt.subplots(1, 3, figsize=(36, 12))\n",
    "ax[0].imshow(heatmap)\n",
    "ax[1].imshow(htm_data)\n",
    "ax[2].imshow(htm_data - heatmap)\n",
    "plt.show()"
   ]
  }
 ],
 "metadata": {
  "kernelspec": {
   "display_name": "Python 3",
   "language": "python",
   "name": "python3"
  },
  "language_info": {
   "codemirror_mode": {
    "name": "ipython",
    "version": 3
   },
   "file_extension": ".py",
   "mimetype": "text/x-python",
   "name": "python",
   "nbconvert_exporter": "python",
   "pygments_lexer": "ipython3",
   "version": "3.10.12"
  }
 },
 "nbformat": 4,
 "nbformat_minor": 2
}
