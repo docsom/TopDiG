{
 "cells": [
  {
   "cell_type": "code",
   "execution_count": 1,
   "metadata": {},
   "outputs": [],
   "source": [
    "import os\n",
    "import yaml\n",
    "import sys\n",
    "sys.path.append(\"..\")\n",
    "import json\n",
    "import numpy as np\n",
    "from scipy import ndimage\n",
    "from scipy.sparse import csr_matrix\n",
    "from scipy.sparse.csgraph import connected_components\n",
    "from skimage.morphology import skeletonize_3d\n",
    "import matplotlib\n",
    "import matplotlib.pyplot as plt\n",
    "from matplotlib import text, patheffects\n",
    "import matplotlib.patches as patches\n",
    "import matplotlib.gridspec as gridspec\n",
    "from monai.data import DataLoader\n",
    "import torch\n",
    "from torch import nn\n",
    "import networkx as nx\n",
    "from dataset_road_network import Sat2GraphDataLoader\n",
    "from dataset_road_network import build_road_network_data\n",
    "from evaluator import build_evaluator\n",
    "from trainer import build_trainer\n",
    "from models import build_model\n",
    "from utils import image_graph_collate_road_network\n",
    "from models.matcher import build_matcher\n",
    "from inference import relation_infer\n",
    "from losses import SetCriterion\n",
    "from torch.utils.tensorboard import SummaryWriter\n",
    "\n",
    "# %matplotlib widget\n",
    "%load_ext autoreload\n",
    "%autoreload 2"
   ]
  },
  {
   "cell_type": "code",
   "execution_count": 2,
   "metadata": {},
   "outputs": [],
   "source": [
    "class obj:\n",
    "    def __init__(self, dict1):\n",
    "        self.__dict__.update(dict1)\n",
    "        \n",
    "def dict2obj(dict1):\n",
    "    return json.loads(json.dumps(dict1), object_hook=obj)"
   ]
  },
  {
   "cell_type": "code",
   "execution_count": 3,
   "metadata": {},
   "outputs": [],
   "source": [
    "config_file = \"/nas/tsgil/relationformer/configs/road_spacenet_gil.yaml\"\n",
    "# config_file = \"/nas/tsgil/relationformer/configs/road_test-single_gil.yaml\"\n",
    "\n",
    "with open(config_file) as f:\n",
    "    config = yaml.load(f, Loader=yaml.FullLoader)\n",
    "\n",
    "config = dict2obj(config)\n",
    "mean = np.array([0.485, 0.456, 0.406])\n",
    "std = np.array([0.229, 0.224, 0.225])"
   ]
  },
  {
   "cell_type": "code",
   "execution_count": 1,
   "metadata": {},
   "outputs": [],
   "source": [
    "# 시각화 함수 2\n",
    "def plot_test_sample(image, points, edges):\n",
    "\n",
    "    H, W = image.shape[0], image.shape[1]\n",
    "    fig, ax = plt.subplots(figsize=(12,5), dpi=150)\n",
    "    gridspec.GridSpec(1,5)\n",
    "    ax = plt.subplot2grid((1,4), (0,0), colspan=2, rowspan=1)\n",
    "\n",
    "    # Displaying the image\n",
    "    ax.imshow(image*std+mean)\n",
    "    ax.axis('off')\n",
    "    \n",
    "    ax = plt.subplot2grid((1,4), (0,2), colspan=2, rowspan=1)\n",
    "    \n",
    "    border_nodes = np.array([[0,0],[0,H],[W,H],[W,0]])\n",
    "    border_edges = [(0,1),(1,2),(2,3),(3,0)]\n",
    "    \n",
    "    G1 = nx.Graph()\n",
    "    G1.add_nodes_from(list(range(len(border_nodes))))\n",
    "    coord_dict = {}\n",
    "    tmp = [coord_dict.update({i:(pts[1],pts[0])}) for i, pts in enumerate(border_nodes)]\n",
    "    for n, p in coord_dict.items():\n",
    "        G1.nodes[n]['pos'] = p\n",
    "    G1.add_edges_from(border_edges)\n",
    "    \n",
    "    pos = nx.get_node_attributes(G1,'pos')\n",
    "    #pos = nx.rescale_layout_dict(pos)\n",
    "    #pos = nx.circular_layout(G)\n",
    "    nx.draw(G1, pos, ax=ax, node_size=1, node_color='darkgrey', edge_color='darkgrey', width=1.5, font_size=12, with_labels=False)\n",
    "\n",
    "    \n",
    "    G = nx.Graph()\n",
    "    edges = [tuple(rel) for rel in edges]\n",
    "    nodes = list(np.unique(np.array(edges)))\n",
    "    coord_dict = {}\n",
    "    tmp = [coord_dict.update({i:(W*pts[1],H- H*pts[0])}) for i, pts in enumerate(points)]\n",
    "    G.add_nodes_from(list(range(len(points))))\n",
    "    for n, p in coord_dict.items():\n",
    "        G.nodes[n]['pos'] = p\n",
    "    G.add_edges_from(edges)\n",
    "    pos = nx.get_node_attributes(G,'pos')\n",
    "    #pos = nx.rescale_layout_dict(pos)\n",
    "    #pos = nx.circular_layout(G)\n",
    "    nx.draw(G, pos, ax=ax, node_size=10, node_color='lightcoral', edge_color='mediumorchid', width=1.5, font_size=12, with_labels=False)\n",
    "    # nx.draw_networkx_edge_labels(G, pos, ax=ax, font_size=12, label_pos=0.5, rotate=False)\n",
    "    \n",
    "    plt.show()\n",
    "    \n",
    "# 시각화 함수 1\n",
    "def plot_val_rel_sample(image, seg, points1, edges1, points2, edges2, attn_map=None, relative_coords=True):\n",
    "    H, W = image.shape[0], image.shape[1]\n",
    "    fig, ax = plt.subplots(1,4, figsize=(20,5), dpi=150)\n",
    "\n",
    "    # Displaying the image, 인풋 이미지\n",
    "    ax[0].imshow(image*std+mean)\n",
    "    ax[0].axis('off')\n",
    "    \n",
    "    # 인풋 seg\n",
    "    ax[1].imshow(seg)\n",
    "    ax[1].axis('off')\n",
    "    \n",
    "    border_nodes = np.array([[1,1],[1,H-1],[W-1,H-1],[W-1,1]])\n",
    "    border_edges = [(0,1),(1,2),(2,3),(3,0)]\n",
    "    \n",
    "    # \n",
    "    G1 = nx.Graph()\n",
    "    G1.add_nodes_from(list(range(len(border_nodes))))\n",
    "    coord_dict = {}\n",
    "    tmp = [coord_dict.update({i:(pts[1],pts[0])}) for i, pts in enumerate(border_nodes)]\n",
    "    for n, p in coord_dict.items():\n",
    "        G1.nodes[n]['pos'] = p\n",
    "    G1.add_edges_from(border_edges)\n",
    "    \n",
    "    pos = nx.get_node_attributes(G1,'pos')\n",
    "    #pos = nx.rescale_layout_dict(pos)\n",
    "    #pos = nx.circular_layout(G)\n",
    "    nx.draw(G1, pos, ax=ax[2], node_size=1, node_color='darkgrey', edge_color='darkgrey', width=1.5, font_size=12, with_labels=False)\n",
    "    # nx.draw_networkx_edge_labels(G, pos, ax=ax, font_size=12, label_pos=0.5, rotate=False)\n",
    "    nx.draw(G1, pos, ax=ax[3], node_size=1, node_color='darkgrey', edge_color='darkgrey', width=1.5, font_size=12, with_labels=False)\n",
    "\n",
    "    G = nx.Graph()\n",
    "    edges = [tuple(rel) for rel in edges1]\n",
    "    nodes = list(np.unique(np.array(edges)))\n",
    "    coord_dict = {}\n",
    "    tmp = [coord_dict.update({nodes[i]:(W*pts[1], H- H*pts[0])}) for i, pts in enumerate(points1[nodes,:])]\n",
    "    G.add_nodes_from(nodes)\n",
    "    for n, p in coord_dict.items():\n",
    "        G.nodes[n]['pos'] = p\n",
    "    G.add_edges_from(edges)\n",
    "    \n",
    "    pos = nx.get_node_attributes(G,'pos')\n",
    "    #pos = nx.rescale_layout_dict(pos)\n",
    "    #pos = nx.circular_layout(G)\n",
    "    nx.draw(G, pos, ax=ax[2], node_size=10, node_color='lightcoral', edge_color='mediumorchid', width=1.5, font_size=12, with_labels=False)\n",
    "    # nx.draw_networkx_edge_labels(G, pos, ax=ax, font_size=12, label_pos=0.5, rotate=False)\n",
    "    \n",
    "    G = nx.Graph()\n",
    "    edges = [tuple(rel) for rel in edges2]\n",
    "    nodes = list(np.unique(np.array(edges)))\n",
    "    coord_dict = {}\n",
    "    tmp = [coord_dict.update({nodes[i]:(W*pts[1],H- H*pts[0])}) for i, pts in enumerate(points2[nodes,:])]\n",
    "    G.add_nodes_from(nodes)\n",
    "    for n, p in coord_dict.items():\n",
    "        G.nodes[n]['pos'] = p\n",
    "    G.add_edges_from(edges)\n",
    "    pos = nx.get_node_attributes(G,'pos')\n",
    "    #pos = nx.rescale_layout_dict(pos)\n",
    "    #pos = nx.circular_layout(G)\n",
    "    nx.draw(G, pos, ax=ax[3], node_size=10, node_color='lightcoral', edge_color='mediumorchid', width=1.5, font_size=12, with_labels=False)\n",
    "    # nx.draw_networkx_edge_labels(G, pos, ax=ax, font_size=12, label_pos=0.5, rotate=False)\n",
    "    \n",
    "    plt.show()"
   ]
  },
  {
   "cell_type": "markdown",
   "metadata": {},
   "source": [
    "## Debug Dataloader"
   ]
  },
  {
   "cell_type": "code",
   "execution_count": 5,
   "metadata": {},
   "outputs": [],
   "source": [
    "def image_graph_collate_road_network(batch):\n",
    "    images = torch.stack([item[0] for item in batch], 0).contiguous()\n",
    "    seg = torch.stack([item[1] for item in batch], 0).contiguous()\n",
    "    points = [item[2] for item in batch]\n",
    "    edges = [item[3] for item in batch]\n",
    "    return [images, seg, points, edges]"
   ]
  },
  {
   "cell_type": "code",
   "execution_count": 6,
   "metadata": {},
   "outputs": [
    {
     "data": {
      "text/plain": [
       "14"
      ]
     },
     "execution_count": 6,
     "metadata": {},
     "output_type": "execute_result"
    }
   ],
   "source": [
    "val_ds, file_infos = build_road_network_data( # 이 함수는 폴더에서 셔플해서 ds 생성함\n",
    "    config, mode='test', loadXYN=True\n",
    ")\n",
    "# print(len(val_ds))\n",
    "# print(val_ds[0])\n",
    "\n",
    "val_loader = DataLoader(val_ds,\n",
    "                        batch_size=config.DATA.BATCH_SIZE,\n",
    "                        shuffle=False,\n",
    "                        num_workers=config.DATA.NUM_WORKERS,\n",
    "                        collate_fn=image_graph_collate_road_network,\n",
    "                        pin_memory=True)\n",
    "len(val_loader) # 이터레이션 수"
   ]
  },
  {
   "cell_type": "markdown",
   "metadata": {},
   "source": [
    "## Debug Trained Model"
   ]
  },
  {
   "cell_type": "code",
   "execution_count": 7,
   "metadata": {},
   "outputs": [],
   "source": [
    "model = build_model(config)\n",
    "device = torch.device(\"cuda\")\n",
    "model = model.to(device)"
   ]
  },
  {
   "cell_type": "code",
   "execution_count": 8,
   "metadata": {},
   "outputs": [],
   "source": [
    "ckpt_path = '/nas/tsgil/relationformer/trained_weights/runs/baseline_road_resnet_def_detr_final_dec_4_10/models/checkpoint_epoch=100.pt' # 경로 수정하여 사용\n",
    "checkpoint = torch.load(ckpt_path, map_location='cpu')\n",
    "missing_keys, unexpected_keys = model.load_state_dict(checkpoint['net'], strict=False)\n",
    "unexpected_keys = [k for k in unexpected_keys if not (k.endswith('total_params') or k.endswith('total_ops'))]\n",
    "if len(missing_keys) > 0:\n",
    "    print('Missing Keys: {}'.format(missing_keys))\n",
    "if len(unexpected_keys) > 0:\n",
    "    print('Unexpected Keys: {}'.format(unexpected_keys))"
   ]
  },
  {
   "cell_type": "code",
   "execution_count": 9,
   "metadata": {},
   "outputs": [
    {
     "name": "stderr",
     "output_type": "stream",
     "text": [
      "To copy construct from a tensor, it is recommended to use sourceTensor.clone().detach() or sourceTensor.clone().detach().requires_grad_(True), rather than torch.tensor(sourceTensor).\n",
      "To copy construct from a tensor, it is recommended to use sourceTensor.clone().detach() or sourceTensor.clone().detach().requires_grad_(True), rather than torch.tensor(sourceTensor).\n",
      "To copy construct from a tensor, it is recommended to use sourceTensor.clone().detach() or sourceTensor.clone().detach().requires_grad_(True), rather than torch.tensor(sourceTensor).\n",
      "To copy construct from a tensor, it is recommended to use sourceTensor.clone().detach() or sourceTensor.clone().detach().requires_grad_(True), rather than torch.tensor(sourceTensor).\n",
      "floor_divide is deprecated, and will be removed in a future version of pytorch. It currently rounds toward 0 (like the 'trunc' function NOT 'floor'). This results in incorrect rounding for negative values.\n",
      "To keep the current behavior, use torch.div(a, b, rounding_mode='trunc'), or for actual floor division, use torch.div(a, b, rounding_mode='floor'). (Triggered internally at  ../aten/src/ATen/native/BinaryOps.cpp:467.)\n"
     ]
    },
    {
     "name": "stdout",
     "output_type": "stream",
     "text": [
      "Iteration: 1\n",
      "Iteration: 2\n",
      "Iteration: 3\n",
      "Iteration: 4\n",
      "Iteration: 5\n",
      "Iteration: 6\n",
      "Iteration: 7\n",
      "Iteration: 8\n",
      "Iteration: 9\n",
      "Iteration: 10\n",
      "Iteration: 11\n",
      "Iteration: 12\n",
      "Iteration: 13\n",
      "Iteration: 14\n"
     ]
    }
   ],
   "source": [
    "from PIL import Image\n",
    "import json\n",
    "\n",
    "model.eval() # 인퍼런스 모드\n",
    "gil_path = f'/nas/tsgil/relationformer/gil/spacenet_test_data_region'\n",
    "# gil_path = f'/nas/tsgil/relationformer/gil/test_single_data_region' # test-single\n",
    "if not os.path.isdir(gil_path):\n",
    "    os.makedirs(gil_path)\n",
    "    os.makedirs(gil_path + \"/patch\")\n",
    "    os.makedirs(gil_path + \"/seg\")\n",
    "    os.makedirs(gil_path + \"/graph\")\n",
    "else:\n",
    "    if not os.path.isdir(gil_path + \"/patch\"):\n",
    "        os.makedirs(gil_path + \"/patch\")\n",
    "    if not os.path.isdir(gil_path + \"/seg\"):\n",
    "        os.makedirs(gil_path + \"/seg\")\n",
    "    if not os.path.isdir(gil_path + \"/graph\"):\n",
    "        os.makedirs(gil_path + \"/graph\")\n",
    "    print(\"The path is already ready.\")\n",
    "iteration = 0\n",
    "for idx, (images, seg, points, edges) in enumerate(val_loader): # 이터레이션 만큼 패치 배치에 대한 파일 생성\n",
    "    iteration = iteration+1\n",
    "    images = images.cuda()\n",
    "    # print(images.shape) # [32, 3, 128, 128]\n",
    "    seg = seg.cuda()\n",
    "    h, out, _ = model(images, seg=False)\n",
    "    pred_nodes, pred_edges, pred_nodes_box, pred_nodes_box_score, pred_nodes_box_class, pred_edges_box_score, pred_edges_box_class = relation_infer(\n",
    "                h.detach(), out, model, config.MODEL.DECODER.OBJ_TOKEN, config.MODEL.DECODER.RLN_TOKEN,\n",
    "                nms=False, map_=True\n",
    "                )\n",
    "    # plot_val_rel_sample(images[0].permute(1,2,0).cpu().numpy(), seg[0].permute(1,2,0).cpu().numpy(), points[0].cpu().numpy(), edges[0].cpu().numpy(), pred_nodes[0].cpu().numpy(), pred_edges[0])\n",
    "    # print(images[0].shape) # [3, 128, 128]\n",
    "    # print(images[0].permute(1,2,0).shape) # [128, 128, 3]\n",
    "    start_idx = idx*config.DATA.BATCH_SIZE\n",
    "    for i in range(len(images)): # 0~31\n",
    "        file_name = file_infos[start_idx+i]\n",
    "        sample_id, x, y, region_num = file_name.split('_')\n",
    "        # img of patch\n",
    "        # NumPy 배열을 PIL 이미지로 변환\n",
    "        image = images[i].cpu().numpy()\n",
    "        min_value = np.min(image)\n",
    "        max_value = np.max(image)\n",
    "        image = (image - min_value) / (max_value - min_value)\n",
    "        image = (image * 255).astype('uint8')\n",
    "        image = image.transpose(1,2,0)\n",
    "        image = Image.fromarray(image, 'RGB')\n",
    "        # 이미지 파일로 저장할 경로 지정\n",
    "        save_path = f'{gil_path}/patch/{file_name}.png'\n",
    "        # 이미지 파일로 저장\n",
    "        image.save(save_path)\n",
    "        # seg\n",
    "        image = seg[i].cpu().numpy()\n",
    "        image = image+0.5\n",
    "        image = (image * 255).astype('uint8')\n",
    "        image = np.squeeze(image, axis=0)\n",
    "        image = Image.fromarray(image, 'L')\n",
    "        save_path = f'{gil_path}/seg/{file_name}.png'\n",
    "        image.save(save_path)\n",
    "        # gt node edge\n",
    "        gt_node, gt_edge = points[i].cpu().numpy(), edges[i].cpu().numpy()\n",
    "        # pred node edge\n",
    "        pred_node, pred_edge = pred_nodes[i].cpu().numpy(), pred_edges[i]\n",
    "        gt_node_list = gt_node.tolist()\n",
    "        gt_edge_list = gt_edge.tolist()\n",
    "        pred_node_list = pred_node.tolist()\n",
    "        pred_edge_list = pred_edge.tolist()\n",
    "        data = {\n",
    "            \"gt_node\": gt_node_list,\n",
    "            \"gt_edge\": gt_edge_list,\n",
    "            \"pred_node\": pred_node_list,\n",
    "            \"pred_edge\": pred_edge_list\n",
    "        }\n",
    "        # JSON 파일로 저장\n",
    "        with open(f'{gil_path}/graph/{file_name}.json', 'w') as json_file:\n",
    "            json.dump(data, json_file, indent=2)\n",
    "    # 정답 사진, 정답 Seg, 정답 노드와 엣지, 예측 노드와 엣지\n",
    "    print('Iteration:',iteration)"
   ]
  },
  {
   "cell_type": "code",
   "execution_count": 10,
   "metadata": {},
   "outputs": [
    {
     "name": "stdout",
     "output_type": "stream",
     "text": [
      "2023-11-23 10:06:12,625 - Clipping input data to the valid range for imshow with RGB data ([0..1] for floats or [0..255] for integers).\n"
     ]
    },
    {
     "data": {
      "image/png": "[encoded data removed]",
      "text/plain": [
       "<Figure size 1800x750 with 2 Axes>"
      ]
     },
     "metadata": {},
     "output_type": "display_data"
    }
   ],
   "source": [
    "plot_test_sample(images[0].permute(1,2,0).cpu().numpy(), pred_nodes[0].cpu().numpy(), pred_edges[0]) # 0~31\n",
    "# 정답 사진, 예측 노드와 엣지"
   ]
  },
  {
   "cell_type": "code",
   "execution_count": 11,
   "metadata": {},
   "outputs": [],
   "source": [
    "# def match_name_keywords(n, name_keywords):\n",
    "#     out = False\n",
    "#     for b in name_keywords:\n",
    "#         if b in n:\n",
    "#             out = True\n",
    "#             break\n",
    "#     return out"
   ]
  },
  {
   "cell_type": "code",
   "execution_count": 12,
   "metadata": {},
   "outputs": [],
   "source": [
    "# param_dicts = [\n",
    "#     {\n",
    "#         \"params\":\n",
    "#             [p for n, p in model.named_parameters()\n",
    "#              if not match_name_keywords(n, ['enoder','reference_points', 'sampling_offsets']) and p.requires_grad],\n",
    "#         \"lr\": float(config.TRAIN.LR)\n",
    "#     },\n",
    "#     {\n",
    "#         \"params\": [p for n, p in model.named_parameters() if match_name_keywords(n, [\"enoder\"]) and p.requires_grad],\n",
    "#         \"lr\": float(config.TRAIN.LR_BACKBONE)\n",
    "#     },\n",
    "#     {\n",
    "#         \"params\": [p for n, p in model.named_parameters() if match_name_keywords(n, ['reference_points', 'sampling_offsets']) and p.requires_grad],\n",
    "#         \"lr\": float(config.TRAIN.LR) * 0.1\n",
    "#     }\n",
    "# ]"
   ]
  },
  {
   "cell_type": "code",
   "execution_count": null,
   "metadata": {},
   "outputs": [],
   "source": []
  }
 ],
 "metadata": {
  "kernelspec": {
   "display_name": "Python 3",
   "language": "python",
   "name": "python3"
  },
  "language_info": {
   "codemirror_mode": {
    "name": "ipython",
    "version": 3
   },
   "file_extension": ".py",
   "mimetype": "text/x-python",
   "name": "python",
   "nbconvert_exporter": "python",
   "pygments_lexer": "ipython3",
   "version": "3.8.5"
  }
 },
 "nbformat": 4,
 "nbformat_minor": 4
}
