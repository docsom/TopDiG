{
 "cells": [
  {
   "cell_type": "code",
   "execution_count": null,
   "metadata": {},
   "outputs": [],
   "source": [
    "import cv2\n",
    "import numpy as np\n",
    "import networkx as nx\n",
    "import matplotlib.pyplot as plt\n",
    "\n",
    "# Load segmented image (binary mask)\n",
    "segmented_image = cv2.imread('segmented_image.png', 0)  # 0 for grayscale\n",
    "\n",
    "# Find contours\n",
    "contours, _ = cv2.findContours(segmented_image, cv2.RETR_TREE, cv2.CHAIN_APPROX_SIMPLE)\n",
    "\n",
    "# Initialize an empty graph\n",
    "G = nx.Graph()\n",
    "\n",
    "# Iterate over contours and add edges\n",
    "for i, contour in enumerate(contours):\n",
    "    # Approximate contour to simplify the shape\n",
    "    epsilon = 0.01 * cv2.arcLength(contour, True)\n",
    "    approx = cv2.approxPolyDP(contour, epsilon, True)\n",
    "\n",
    "    # Add nodes and edges to the graph\n",
    "    for j in range(len(approx)):\n",
    "        # Add node\n",
    "        node = tuple(approx[j][0])\n",
    "        G.add_node(node)\n",
    "\n",
    "        # Connect nodes with an edge\n",
    "        if j < len(approx) - 1:\n",
    "            next_node = tuple(approx[j + 1][0])\n",
    "            G.add_edge(node, next_node)\n"
   ]
  },
  {
   "cell_type": "code",
   "execution_count": null,
   "metadata": {},
   "outputs": [],
   "source": [
    "def calculate_topological_f1(predicted_graph, ground_truth_graph, match_criteria):\n",
    "    tp = 0  # True Positives\n",
    "    fp = 0  # False Positives\n",
    "    fn = 0  # False Negatives\n",
    "\n",
    "    # Assuming match_criteria is a function to determine if a predicted element matches with ground truth\n",
    "    for predicted_element in predicted_graph:\n",
    "        if match_criteria(predicted_element, ground_truth_graph):\n",
    "            tp += 1\n",
    "        else:\n",
    "            fp += 1\n",
    "\n",
    "    for ground_truth_element in ground_truth_graph:\n",
    "        if not match_criteria(ground_truth_element, predicted_graph):\n",
    "            fn += 1\n",
    "\n",
    "    precision = tp / (tp + fp) if (tp + fp) > 0 else 0\n",
    "    recall = tp / (tp + fn) if (tp + fn) > 0 else 0\n",
    "    f1_score = 2 * (precision * recall) / (precision + recall) if (precision + recall) > 0 else 0\n",
    "\n",
    "    return precision, recall, f1_score"
   ]
  },
  {
   "cell_type": "code",
   "execution_count": null,
   "metadata": {},
   "outputs": [],
   "source": [
    "# Optional: visualize the graph\n",
    "pos = {node: (node[0], -node[1]) for node in G.nodes()}  # Flip y-axis for display\n",
    "nx.draw(G, pos, with_labels=True, node_color='lightblue', node_size=500)\n",
    "plt.show()\n",
    "\n",
    "# Number of connected components\n",
    "num_components = nx.number_connected_components(G)\n",
    "print(\"Number of connected components:\", num_components)\n",
    "\n",
    "# Analyze each component (optional)\n",
    "for component in nx.connected_components(G):\n",
    "    subgraph = G.subgraph(component)\n",
    "    # Further analysis like checking cycles, length, etc."
   ]
  },
  {
   "cell_type": "code",
   "execution_count": null,
   "metadata": {},
   "outputs": [],
   "source": []
  },
  {
   "cell_type": "code",
   "execution_count": null,
   "metadata": {},
   "outputs": [],
   "source": []
  },
  {
   "cell_type": "code",
   "execution_count": null,
   "metadata": {},
   "outputs": [],
   "source": []
  }
 ],
 "metadata": {
  "language_info": {
   "name": "python"
  }
 },
 "nbformat": 4,
 "nbformat_minor": 2
}
