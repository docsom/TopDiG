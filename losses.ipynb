{
 "cells": [
  {
   "cell_type": "code",
   "execution_count": 2,
   "metadata": {},
   "outputs": [
    {
     "data": {
      "text/plain": [
       "tensor(1.2000)"
      ]
     },
     "execution_count": 2,
     "metadata": {},
     "output_type": "execute_result"
    }
   ],
   "source": [
    "import torch\n",
    "\n",
    "def compare_permutation_matrices(gt_matrix, pred_matrix):\n",
    "    \"\"\" \n",
    "    GT 행렬에서 ij 칸의 값이 1일 때 Pred 행렬의 값을 합산합니다.\n",
    "    \"\"\"\n",
    "    # 두 행렬의 크기가 같은지 확인\n",
    "    assert gt_matrix.shape == pred_matrix.shape, \"Matrices must have the same shape\"\n",
    "\n",
    "    # GT 행렬에서 1인 위치를 찾고, 해당 위치에서 Pred 행렬의 값을 합산\n",
    "    sum_pred_values = torch.sum(pred_matrix[gt_matrix == 1])\n",
    "\n",
    "    return sum_pred_values\n",
    "\n",
    "# 예시 사용\n",
    "gt_matrix = torch.tensor([[1, 0], [0, 1]])\n",
    "pred_matrix = torch.tensor([[0.5, 0.2], [0.3, 0.7]])\n",
    "\n",
    "result = compare_permutation_matrices(gt_matrix, pred_matrix)\n",
    "result\n"
   ]
  },
  {
   "cell_type": "code",
   "execution_count": 5,
   "metadata": {},
   "outputs": [
    {
     "name": "stdout",
     "output_type": "stream",
     "text": [
      "Ground Truth Matrix:\n",
      " tensor([[0, 1, 0, 0],\n",
      "        [1, 0, 0, 0],\n",
      "        [0, 0, 0, 1],\n",
      "        [0, 0, 1, 0]])\n",
      "Prediction Matrix:\n",
      " tensor([[0.2000, 0.3000, 0.5000, 0.1000],\n",
      "        [0.6000, 0.4000, 0.2000, 0.3000],\n",
      "        [0.1000, 0.2000, 0.4000, 0.7000],\n",
      "        [0.5000, 0.1000, 0.3000, 0.6000]])\n"
     ]
    },
    {
     "data": {
      "text/plain": [
       "tensor(1.9000)"
      ]
     },
     "execution_count": 5,
     "metadata": {},
     "output_type": "execute_result"
    }
   ],
   "source": [
    "# 4x4 행렬 예시 생성\n",
    "gt_matrix_example = torch.tensor([[0, 1, 0, 0], \n",
    "                                       [1, 0, 0, 0], \n",
    "                                       [0, 0, 0, 1], \n",
    "                                       [0, 0, 1, 0]])\n",
    "\n",
    "pred_matrix_example = torch.tensor([[0.2, 0.3, 0.5, 0.1], \n",
    "                                    [0.6, 0.4, 0.2, 0.3], \n",
    "                                    [0.1, 0.2, 0.4, 0.7], \n",
    "                                    [0.5, 0.1, 0.3, 0.6]])\n",
    "\n",
    "# 생성된 행렬 출력\n",
    "print(\"Ground Truth Matrix:\\n\", gt_matrix_example)\n",
    "print(\"Prediction Matrix:\\n\", pred_matrix_example)\n",
    "\n",
    "compare_permutation_matrices(gt_matrix_example, pred_matrix_example)"
   ]
  }
 ],
 "metadata": {
  "kernelspec": {
   "display_name": "Python 3",
   "language": "python",
   "name": "python3"
  },
  "language_info": {
   "codemirror_mode": {
    "name": "ipython",
    "version": 3
   },
   "file_extension": ".py",
   "mimetype": "text/x-python",
   "name": "python",
   "nbconvert_exporter": "python",
   "pygments_lexer": "ipython3",
   "version": "3.10.12"
  }
 },
 "nbformat": 4,
 "nbformat_minor": 2
}
